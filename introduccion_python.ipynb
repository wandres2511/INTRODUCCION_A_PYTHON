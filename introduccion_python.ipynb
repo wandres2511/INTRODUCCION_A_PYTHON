{
 "cells": [
  {
   "cell_type": "markdown",
   "metadata": {},
   "source": [
    "TALLER INICIAL PM&S\n",
    "Introducción a Python"
   ]
  },
  {
   "cell_type": "markdown",
   "metadata": {},
   "source": [
    "1 Hola Mundo"
   ]
  },
  {
   "cell_type": "code",
   "execution_count": 3,
   "metadata": {},
   "outputs": [
    {
     "name": "stdout",
     "output_type": "stream",
     "text": [
      "¡Hola Mundo!\n",
      "¡Hola\n",
      "Mundo\n"
     ]
    }
   ],
   "source": [
    "print('¡Hola Mundo!')\n",
    "print('¡Hola\\nMundo') # Comentario: esta parte no se tiene en cuenta"
   ]
  },
  {
   "cell_type": "markdown",
   "metadata": {},
   "source": [
    "2 OPERACIONES ARITMÉTICAS"
   ]
  },
  {
   "cell_type": "code",
   "execution_count": 17,
   "metadata": {},
   "outputs": [
    {
     "name": "stdout",
     "output_type": "stream",
     "text": [
      "3.5\n",
      "76.25\n",
      "El año tiene 31536000 segundos\n"
     ]
    }
   ],
   "source": [
    "5*(2.5+3.1)/8\n",
    "a=5*(2.5 + 3.1) / 8 #Guardando el resultado en la variable a.\n",
    "print(a) # Muestra el valor guardado en la variable a.\n",
    "2**3 # Esta expresión calcula 2^3. La potenciacion se hace con doble asterisco.\n",
    "b=(2**3+4**2)/3\n",
    "c=a**2 + b**2 #Operaciones con variables en las que se guardaron resultados\n",
    "print(c)\n",
    "s=365*24*3600\n",
    "print(\"El año tiene\" , s, \"segundos\")"
   ]
  },
  {
   "cell_type": "markdown",
   "metadata": {},
   "source": [
    "3 GUARDAR TEXTO EN VARIABLES Y UNIR TEXTO"
   ]
  },
  {
   "cell_type": "code",
   "execution_count": 21,
   "metadata": {},
   "outputs": [
    {
     "name": "stdout",
     "output_type": "stream",
     "text": [
      "Casa amarilla\n",
      "Mi Casa amarilla\n"
     ]
    }
   ],
   "source": [
    "x=\"Casa\" #Guarda la palabra casa en la variable x.\n",
    "y=\"amarilla\"\n",
    "x+y #Genera el texto \"casa amarilla\"\n",
    "e=\" \" #Guarda el espacio\n",
    "z=x+e+y\n",
    "print(z) #Genera el texto \"casa amarilla\"\n",
    "print(\"Mi \"+z) #Genera el texto \"Mi casa amarilla\""
   ]
  },
  {
   "cell_type": "markdown",
   "metadata": {},
   "source": [
    "4 INGRESO DE VALORES POR TECLADO"
   ]
  },
  {
   "cell_type": "code",
   "execution_count": 24,
   "metadata": {},
   "outputs": [
    {
     "name": "stdout",
     "output_type": "stream",
     "text": [
      "3\n",
      "<class 'str'>\n",
      "<class 'float'>\n"
     ]
    }
   ],
   "source": [
    "x=input(\"Ingrese un número\")\n",
    "print(x)\n",
    "x=input(\"Ingrese un número\")\n",
    "print(type(x))\n",
    "x=float(input(\"Ingrese un número\"))\n",
    "print(type(x))"
   ]
  },
  {
   "cell_type": "markdown",
   "metadata": {},
   "source": [
    "5 LISTAS - VECTORES"
   ]
  },
  {
   "cell_type": "code",
   "execution_count": 30,
   "metadata": {},
   "outputs": [
    {
     "name": "stdout",
     "output_type": "stream",
     "text": [
      "['a', 'b', 'c', 'd', 'e']\n",
      "['a', 'b', 'c', 'e']\n",
      "['a', 'b', 'c']\n",
      "['b', 'c']\n",
      "['b', 'c', 'h']\n"
     ]
    }
   ],
   "source": [
    "x=['a', 'b', 'c', 'd', 'e'] #Genera un vector con los elementos inidcados en el parentesis\n",
    "print(x)\n",
    "\n",
    "x.pop(3) #Elimina la tercera posición del vector.\n",
    "print(x)\n",
    "\n",
    "x.pop(-1)\n",
    "print(x)\n",
    "\n",
    "x.remove('a')\n",
    "print(x)\n",
    "\n",
    "x.append('h')\n",
    "print(x)"
   ]
  },
  {
   "cell_type": "markdown",
   "metadata": {},
   "source": [
    "6 ESTRUCTURA DE CONTROL"
   ]
  },
  {
   "cell_type": "code",
   "execution_count": 34,
   "metadata": {},
   "outputs": [
    {
     "name": "stdout",
     "output_type": "stream",
     "text": [
      "0\n",
      "1\n",
      "2\n",
      "Este es el paso número 4\n",
      "Este es el paso número 5\n",
      "Este es el paso número 6\n",
      "Este es el paso número 7\n"
     ]
    }
   ],
   "source": [
    "#El ciclo for hace que se repitan algunas instrucciones, una vez por cada elemento en el rango.\n",
    "\n",
    "for x in range(0,3): #range (0,3) es un rango de valores de 0 a 2 (3 valores)\n",
    "    print(x)\n",
    "    #La sintaxis de Python exige un sangrado(\"indentación\") para el segundo renglon del ciclo for.\n",
    "    #el comando print() debe tener un espacio respecto al margen izquierdo.\n",
    "    \n",
    "for x in range (4,8):\n",
    "    print(\"Este es el paso número\" ,x)"
   ]
  },
  {
   "cell_type": "code",
   "execution_count": 4,
   "metadata": {},
   "outputs": [
    {
     "name": "stdout",
     "output_type": "stream",
     "text": [
      "valores de la variable 4\n",
      "valores de la variable 5\n",
      "valores de la variable 6\n",
      "valores de la variable 7\n"
     ]
    }
   ],
   "source": [
    "for x in range (4,8):\n",
    "    print(f'valores de la variable {x}')"
   ]
  },
  {
   "cell_type": "code",
   "execution_count": 5,
   "metadata": {},
   "outputs": [
    {
     "name": "stdout",
     "output_type": "stream",
     "text": [
      "M\n",
      "a\n",
      "n\n",
      "z\n",
      "a\n",
      "n\n",
      "a\n"
     ]
    }
   ],
   "source": [
    "for x in 'Manzana':\n",
    "    print(x)"
   ]
  },
  {
   "cell_type": "markdown",
   "metadata": {},
   "source": [
    "CONDICIONALES"
   ]
  },
  {
   "cell_type": "code",
   "execution_count": 6,
   "metadata": {},
   "outputs": [
    {
     "name": "stdout",
     "output_type": "stream",
     "text": [
      "La variable b es mayor que a\n"
     ]
    }
   ],
   "source": [
    "a=33\n",
    "b=42\n",
    "if b<a:\n",
    "    print('La variable b es menor que a')\n",
    "else:\n",
    "    print('La variable b es mayor que a')"
   ]
  },
  {
   "cell_type": "code",
   "execution_count": 7,
   "metadata": {},
   "outputs": [
    {
     "name": "stdout",
     "output_type": "stream",
     "text": [
      "las variables son diferentes\n"
     ]
    }
   ],
   "source": [
    "x='mama'\n",
    "y='mamá'\n",
    "if x==y:\n",
    "    print('las variables son iguales')\n",
    "else:\n",
    "    print('las variables son diferentes')"
   ]
  },
  {
   "cell_type": "code",
   "execution_count": 8,
   "metadata": {},
   "outputs": [
    {
     "name": "stdout",
     "output_type": "stream",
     "text": [
      "la variable b es mayor que a\n"
     ]
    }
   ],
   "source": [
    "a=33\n",
    "b=42\n",
    "if b<a:\n",
    "    print('La variable b es menor que a')\n",
    "elif b==a:\n",
    "    print('La variable b es mayor que a')\n",
    "else: \n",
    "    print('la variable b es mayor que a')"
   ]
  },
  {
   "cell_type": "markdown",
   "metadata": {},
   "source": [
    "CICLO WHILE"
   ]
  },
  {
   "cell_type": "code",
   "execution_count": 10,
   "metadata": {},
   "outputs": [
    {
     "name": "stdout",
     "output_type": "stream",
     "text": [
      "1\n"
     ]
    }
   ],
   "source": [
    "i=1\n",
    "while i<10:\n",
    "    print(i)\n",
    "    i=i+1"
   ]
  },
  {
   "cell_type": "markdown",
   "metadata": {},
   "source": [
    "COMBINACIÓN DE ESTRUCTURAS"
   ]
  },
  {
   "cell_type": "code",
   "execution_count": 12,
   "metadata": {},
   "outputs": [
    {
     "name": "stdout",
     "output_type": "stream",
     "text": [
      "1\n",
      "2\n",
      "3\n",
      "Legue al 3\n",
      "4\n",
      "5\n",
      "6\n",
      "7\n",
      "8\n",
      "9\n"
     ]
    }
   ],
   "source": [
    "i=1\n",
    "while i<10:\n",
    "    print(i)\n",
    "    if i==3:\n",
    "        print('Legue al 3')\n",
    "    i=i+1"
   ]
  },
  {
   "cell_type": "code",
   "execution_count": 14,
   "metadata": {},
   "outputs": [],
   "source": [
    "x=float(input('Valor x:'))\n",
    "y=float(input('Valor y:'))\n",
    "\n",
    "for i in range(20):\n",
    "    if(x>4 and y<10):\n",
    "        print(x)"
   ]
  },
  {
   "cell_type": "code",
   "execution_count": 17,
   "metadata": {},
   "outputs": [
    {
     "name": "stdout",
     "output_type": "stream",
     "text": [
      "Collecting matplotlib\n",
      "  Downloading matplotlib-3.9.2-cp312-cp312-win_amd64.whl.metadata (11 kB)\n",
      "Collecting contourpy>=1.0.1 (from matplotlib)\n",
      "  Downloading contourpy-1.2.1-cp312-cp312-win_amd64.whl.metadata (5.8 kB)\n",
      "Collecting cycler>=0.10 (from matplotlib)\n",
      "  Downloading cycler-0.12.1-py3-none-any.whl.metadata (3.8 kB)\n",
      "Collecting fonttools>=4.22.0 (from matplotlib)\n",
      "  Downloading fonttools-4.53.1-cp312-cp312-win_amd64.whl.metadata (165 kB)\n",
      "Collecting kiwisolver>=1.3.1 (from matplotlib)\n",
      "  Downloading kiwisolver-1.4.5-cp312-cp312-win_amd64.whl.metadata (6.5 kB)\n",
      "Requirement already satisfied: numpy>=1.23 in c:\\users\\andre\\appdata\\local\\programs\\python\\python312\\lib\\site-packages (from matplotlib) (2.0.1)\n",
      "Requirement already satisfied: packaging>=20.0 in c:\\users\\andre\\appdata\\roaming\\python\\python312\\site-packages (from matplotlib) (24.1)\n",
      "Collecting pillow>=8 (from matplotlib)\n",
      "  Downloading pillow-10.4.0-cp312-cp312-win_amd64.whl.metadata (9.3 kB)\n",
      "Collecting pyparsing>=2.3.1 (from matplotlib)\n",
      "  Downloading pyparsing-3.1.2-py3-none-any.whl.metadata (5.1 kB)\n",
      "Requirement already satisfied: python-dateutil>=2.7 in c:\\users\\andre\\appdata\\local\\programs\\python\\python312\\lib\\site-packages (from matplotlib) (2.9.0.post0)\n",
      "Requirement already satisfied: six>=1.5 in c:\\users\\andre\\appdata\\local\\programs\\python\\python312\\lib\\site-packages (from python-dateutil>=2.7->matplotlib) (1.16.0)\n",
      "Downloading matplotlib-3.9.2-cp312-cp312-win_amd64.whl (7.8 MB)\n",
      "   ---------------------------------------- 0.0/7.8 MB ? eta -:--:--\n",
      "   ---------------------- ----------------- 4.5/7.8 MB 22.3 MB/s eta 0:00:01\n",
      "   -------------------------------------- - 7.6/7.8 MB 21.3 MB/s eta 0:00:01\n",
      "   ---------------------------------------- 7.8/7.8 MB 17.3 MB/s eta 0:00:00\n",
      "Downloading contourpy-1.2.1-cp312-cp312-win_amd64.whl (189 kB)\n",
      "Downloading cycler-0.12.1-py3-none-any.whl (8.3 kB)\n",
      "Downloading fonttools-4.53.1-cp312-cp312-win_amd64.whl (2.2 MB)\n",
      "   ---------------------------------------- 0.0/2.2 MB ? eta -:--:--\n",
      "   ---------------------------------------- 2.2/2.2 MB 17.7 MB/s eta 0:00:00\n",
      "Downloading kiwisolver-1.4.5-cp312-cp312-win_amd64.whl (56 kB)\n",
      "Downloading pillow-10.4.0-cp312-cp312-win_amd64.whl (2.6 MB)\n",
      "   ---------------------------------------- 0.0/2.6 MB ? eta -:--:--\n",
      "   ---------------------------------------- 2.6/2.6 MB 16.4 MB/s eta 0:00:00\n",
      "Downloading pyparsing-3.1.2-py3-none-any.whl (103 kB)\n",
      "Installing collected packages: pyparsing, pillow, kiwisolver, fonttools, cycler, contourpy, matplotlib\n",
      "Successfully installed contourpy-1.2.1 cycler-0.12.1 fonttools-4.53.1 kiwisolver-1.4.5 matplotlib-3.9.2 pillow-10.4.0 pyparsing-3.1.2\n",
      "Note: you may need to restart the kernel to use updated packages.\n"
     ]
    }
   ],
   "source": [
    "pip install matplotlib"
   ]
  }
 ],
 "metadata": {
  "kernelspec": {
   "display_name": "Python 3",
   "language": "python",
   "name": "python3"
  },
  "language_info": {
   "codemirror_mode": {
    "name": "ipython",
    "version": 3
   },
   "file_extension": ".py",
   "mimetype": "text/x-python",
   "name": "python",
   "nbconvert_exporter": "python",
   "pygments_lexer": "ipython3",
   "version": "3.12.5"
  }
 },
 "nbformat": 4,
 "nbformat_minor": 2
}
